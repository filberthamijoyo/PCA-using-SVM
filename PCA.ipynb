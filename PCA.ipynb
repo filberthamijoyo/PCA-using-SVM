{
  "nbformat": 4,
  "nbformat_minor": 0,
  "metadata": {
    "colab": {
      "provenance": []
    },
    "kernelspec": {
      "name": "python3",
      "display_name": "Python 3"
    }
  },
  "cells": [
    {
      "cell_type": "markdown",
      "metadata": {
        "id": "m3PAEPRDRLA3"
      },
      "source": [
        "# Support Vector Regression (SVR)"
      ]
    },
    {
      "cell_type": "markdown",
      "metadata": {
        "id": "0VCUAVIjRdzZ"
      },
      "source": [
        "## Importing the libraries"
      ]
    },
    {
      "cell_type": "code",
      "metadata": {
        "id": "56oRF-QfSDzC"
      },
      "source": [
        "import numpy as np\n",
        "import matplotlib.pyplot as plt\n",
        "import pandas as pd\n",
        "from sklearn.preprocessing import LabelEncoder\n",
        "from sklearn.preprocessing import StandardScaler"
      ],
      "execution_count": 22,
      "outputs": []
    },
    {
      "cell_type": "markdown",
      "metadata": {
        "id": "fXVXoFWtSF4_"
      },
      "source": [
        "## Importing the dataset"
      ]
    },
    {
      "cell_type": "code",
      "metadata": {
        "id": "xfoa8OSORfHQ"
      },
      "source": [
        "dataset = pd.read_excel('iris.xlsx')\n",
        "# X = dataset.iloc[:, :-1].values\n",
        "# y = dataset['class'].values\n",
        "# print(dataset.head())"
      ],
      "execution_count": 23,
      "outputs": []
    },
    {
      "cell_type": "markdown",
      "source": [
        "## 2.2.1 Spliting the dataset"
      ],
      "metadata": {
        "id": "d33XS1chBJCv"
      }
    },
    {
      "cell_type": "code",
      "metadata": {
        "id": "fAWJV6gpiTYM",
        "outputId": "8cd838bd-a335-4962-cf82-1e18d8ffb74f",
        "colab": {
          "base_uri": "https://localhost:8080/"
        }
      },
      "source": [
        "#X_train, X_test, y_train, y_test = train_test_split(X, y, test_size = 0.30, random_state = 0) cant be used since the split should be per class and trainsplit has no such functionality\n",
        "#the split also must contain the original order of the data\n",
        "#thus we should do it manually\n",
        "training_id = []\n",
        "test_id = []\n",
        "train_ratio = 0.7\n",
        "test_ratio = 0.3\n",
        "classes = dataset['class'].unique()\n",
        "for cls in classes:\n",
        "    cls_dataset = dataset[dataset['class'] == cls]\n",
        "\n",
        "    num_train = int(train_ratio * len(cls_dataset))  #35\n",
        "    num_test = len(cls_dataset) - num_train #15\n",
        "\n",
        "    cls_id = cls_dataset['instance_id'].tolist()\n",
        "\n",
        "    training_id.extend(cls_id[:num_train])\n",
        "    test_id.extend(cls_id[num_train:])\n",
        "\n",
        "#     print(f\"Class {cls}:\")\n",
        "#     print(f\"Training IDs: {cls_id[:num_train]}\")\n",
        "#     print(f\"Test IDs: {cls_id[num_train:]}\")\n",
        "\n",
        "#make sure its still maintains the original order of the data\n",
        "training_id_sorted = sorted(training_id)\n",
        "test_id_sorted = sorted(test_id)\n",
        "\n",
        "print(\"Q2.1.1 Split training set and test set:\")\n",
        "print(f\"Training set: {training_id_sorted}\")\n",
        "print(f\"Test set: {test_id_sorted}\")\n"
      ],
      "execution_count": 24,
      "outputs": [
        {
          "output_type": "stream",
          "name": "stdout",
          "text": [
            "Q2.1.1 Split training set and test set:\n",
            "Training set: [1, 2, 3, 4, 5, 6, 7, 8, 9, 10, 11, 12, 13, 14, 15, 16, 17, 18, 19, 20, 21, 22, 23, 24, 25, 26, 27, 28, 29, 30, 31, 32, 33, 34, 35, 51, 52, 53, 54, 55, 56, 57, 58, 59, 60, 61, 62, 63, 64, 65, 66, 67, 68, 69, 70, 71, 72, 73, 74, 75, 76, 77, 78, 79, 80, 81, 82, 83, 84, 85, 101, 102, 103, 104, 105, 106, 107, 108, 109, 110, 111, 112, 113, 114, 115, 116, 117, 118, 119, 120, 121, 122, 123, 124, 125, 126, 127, 128, 129, 130, 131, 132, 133, 134, 135]\n",
            "Test set: [36, 37, 38, 39, 40, 41, 42, 43, 44, 45, 46, 47, 48, 49, 50, 86, 87, 88, 89, 90, 91, 92, 93, 94, 95, 96, 97, 98, 99, 100, 136, 137, 138, 139, 140, 141, 142, 143, 144, 145, 146, 147, 148, 149, 150]\n"
          ]
        }
      ]
    },
    {
      "cell_type": "markdown",
      "metadata": {
        "id": "YS8FeLHYS-nI"
      },
      "source": [
        "## Feature Scaling and Lable Encoder"
      ]
    },
    {
      "cell_type": "code",
      "metadata": {
        "id": "PGeAlD1HTDI1"
      },
      "source": [
        "#In Support Vector Machines (SVM), feature scaling or normalization are not strictly required, but are highly recommended,\n",
        "#as it can significantly improve model performance and convergence speed.\n",
        "#SVM tries to find the optimal hyperplane that separates the data points of different classes with the maximum margin.\n",
        "#google reference\n",
        "sc = StandardScaler()\n",
        "\n",
        "X_train = dataset.loc[dataset['instance_id'].isin(training_id_sorted), ['sepal length', 'sepal width', 'petal length', 'petal width']].values\n",
        "y_train = dataset.loc[dataset['instance_id'].isin(training_id_sorted), 'class'].values\n",
        "\n",
        "X_test = dataset.loc[dataset['instance_id'].isin(test_id_sorted), ['sepal length', 'sepal width', 'petal length', 'petal width']].values\n",
        "y_test = dataset.loc[dataset['instance_id'].isin(test_id_sorted), 'class'].values\n",
        "\n",
        "X_train_scaled = sc.fit_transform(X_train)\n",
        "X_test_scaled = sc.transform(X_test)\n",
        "\n",
        "# test\n",
        "# print(\"Training set mean (should be ~0):\", np.round(np.mean(X_train_scaled, axis=0), decimals=6))\n",
        "# print(\"Training set std (should be ~1):\", np.round(np.std(X_train_scaled, axis=0), decimals=6))\n",
        "# print(\"Test set mean:\", np.mean(X_test_scaled, axis=0))\n",
        "# print(\"Test set std:\", np.std(X_test_scaled, axis=0))\n",
        "\n",
        "encode = LabelEncoder()\n",
        "y_train_encoded = encode.fit_transform(y_train)\n",
        "y_test_encoded = encode.transform(y_test)\n",
        "class_names = encode.classes_\n",
        "\n",
        "# test\n",
        "# for idx, cls in enumerate(class_names):\n",
        "#     print(f\"{cls}: {idx}\")\n"
      ],
      "execution_count": 25,
      "outputs": []
    },
    {
      "cell_type": "markdown",
      "metadata": {
        "id": "eiU6D2QFRjxY"
      },
      "source": [
        "## 2.1.2 SVD Decomposition:\n",
        "Use the training set to calculate the mean vector and the covariance matrix, and perform SVD decomposition to derive the eigenvalues and eigenvectors.\n",
        "\n",
        "Following the slide (page 26 of Lecture 17), use a biased estimator for the covariance matrix (i.e. normalized by N rather than N − 1)"
      ]
    },
    {
      "cell_type": "code",
      "metadata": {
        "id": "y6R4rt_GRz15",
        "outputId": "1b5c38ad-083d-40aa-c9f9-0ab1a876525c",
        "colab": {
          "base_uri": "https://localhost:8080/"
        }
      },
      "source": [
        "# Extract feature columns\n",
        "feature_columns = ['sepal length', 'sepal width', 'petal length', 'petal width']\n",
        "X_train = dataset.loc[dataset['instance_id'].isin(training_id_sorted), feature_columns].values\n",
        "X_test = dataset.loc[dataset['instance_id'].isin(test_id_sorted), feature_columns].values\n",
        "\n",
        "# Calculate the mean vector\n",
        "mean_vector = np.mean(X_train, axis=0)\n",
        "\n",
        "# Center the training data\n",
        "X_train_centered = X_train - mean_vector\n",
        "\n",
        "# Calculate the covariance matrix using a biased estimator (divide by N)\n",
        "N = X_train_centered.shape[0]\n",
        "covariance_matrix = (X_train_centered.T @ X_train_centered) / N\n",
        "\n",
        "# Perform SVD decomposition\n",
        "U, S, Vt = np.linalg.svd(covariance_matrix)\n",
        "eigenvalues = S\n",
        "eigenvectors = Vt.T  # Columns are eigenvectors\n",
        "\n",
        "print(\"Q2.1.2 SVD decomposition:\")\n",
        "print(f\"Mean vector: {mean_vector}\")\n",
        "print(f\"Covariance matrix:\\n{covariance_matrix}\")\n",
        "print(f\"Eigenvalues (vector): {eigenvalues}\")\n",
        "print(f\"Eigenvectors (matrix):\\n{eigenvectors}\")\n",
        "\n",
        "\n",
        "\n",
        "\n",
        "# Mean vector: Represents the center of the data in the feature space.\n",
        "#              In PCA, we subtract this mean vector from each data point to center the data before applying further transformations (so that each feature has a mean of zero).\n",
        "\n",
        "# The covariance matrix is a square matrix that describes the covariance (relationships) between each pair of features:\n",
        "#                    Diagonal elements represent the variance of each feature (i.e., the variability of each feature).\n",
        "#                    Off-diagonal elements represent the covariance between pairs of features (i.e., how two features change together).\n",
        "#                    A high positive covariance means that as one feature increases, the other tends to increase as well, while a negative covariance means that when one feature increases, the other tends to decrease.\n",
        "# This matrix captures the structure of the data in terms of how different features vary with respect to each other, which is key for PCA.\n",
        "\n",
        "# Eigenvalue (𝜆): The eigenvalue associated with an eigenvector indicates the amount of variance (information) that eigenvector (principal component) explains in the data.\n",
        "# Larger eigenvalues correspond to directions that explain more variance.\n",
        "\n",
        "# Eigenvector (𝑞): The eigenvector represents the direction of the principal component in the feature space.\n",
        "# It is a vector that points to the direction where the data has the maximum variance.\n",
        "\n",
        "# The eigenvalues and eigenvectors are the most important results of PCA.\n",
        "# They represent the directions (eigenvectors) and magnitudes (eigenvalues) of the principal components (PCs).\n",
        "\n",
        "# Eigenvalues represent how much variance each principal component explains in the data.\n",
        "# A larger eigenvalue means that the corresponding principal component explains more variance.\n",
        "# The first eigenvalue is significantly larger than the others, which means the first principal component explains the most variance.\n",
        "# The remaining eigenvalues are much smaller, meaning the additional dimensions capture less variance.\n",
        "\n",
        "\n",
        "\n",
        "# Dimensionality Reduction (PCA)\n",
        "# You can reduce the dimensionality of your data by projecting it onto the top principal components (eigenvectors corresponding to the largest eigenvalues). This helps reduce the dataset's size while retaining as much information (variance) as possible.\n",
        "# Step 1: Sort the eigenvalues in descending order.\n",
        "# Step 2: Select the top 𝑘 eigenvectors corresponding to the top 𝑘 largest eigenvalues. These eigenvectors are the principal components that define the most significant directions in your data.\n",
        "# Step 3: Project the original data onto these top 𝑘 eigenvectors to reduce the number of features while retaining the most important information.\n",
        "# For example, if we want to reduce the data to 2 dimensions, we would take the first two eigenvectors (those corresponding to the largest eigenvalues).\n",
        "\n",
        "# Feature Interpretation\n",
        "# The eigenvectors can be interpreted as new features (principal components). Each principal component is a linear combination of the original features, weighted by the values in the eigenvectors.\n",
        "# For instance:\n",
        "# The first principal component (first eigenvector) is a combination of the four features (sepal length, sepal width, petal length, petal width) weighted by the values in the first column of the eigenvector matrix.\n",
        "# This principal component captures the largest variance in the dataset.\n",
        "# The second principal component (second eigenvector) captures the next largest variance, and so on.\n",
        "# By examining the eigenvectors, you can understand which original features contribute most to each principal component. For example:\n",
        "#                             The eigenvector may show that the petal length and petal width are the most significant contributors to the first principal component.\n",
        "\n",
        "\n",
        "# Variance\n",
        "# You can calculate the proportion of variance explained by each principal component by dividing each eigenvalue by the sum of all eigenvalues\n",
        "# This tells you how much of the total variance in the data is explained by each principal component.\n",
        "# Since the first eigenvalue is much larger than the others, it will explain the majority of the variance in the dataset.\n",
        "\n",
        "# Data Visualization\n",
        "# By projecting the data onto the top 2 or 3 principal components (corresponding to the largest eigenvalues),\n",
        "# you can visualize high-dimensional data in a lower-dimensional space.\n",
        "# For example, in this case, projecting the data onto the first two or three principal components would help you create a 2D or 3D scatter plot to visualize the structure of the data in a reduced space.\n",
        "\n",
        "# Reconstruction of Original Data\n",
        "# You can also use the eigenvectors to reconstruct the data in a lower-dimensional space.\n",
        "# The reconstruction will be an approximation of the original data, with some loss of information based on the number of dimensions you reduce to.\n",
        "# For example, using the first two or three eigenvectors, you can approximate the original data by projecting it back into the original feature space.\n",
        "\n",
        "# With the eigenvalues and eigenvectors from the SVD decomposition:\n",
        "# can reduce the dimensionality of the dataset while retaining the most important features (variance).\n",
        "# can interpret the principal components and understand how the original features contribute to the variance.\n",
        "# can visualize the data in a lower-dimensional space and use the results for further analysis or classification tasks.\n",
        "\n"
      ],
      "execution_count": 26,
      "outputs": [
        {
          "output_type": "stream",
          "name": "stdout",
          "text": [
            "Q2.1.2 SVD decomposition:\n",
            "Mean vector: [5.89047619 3.05809524 3.80571429 1.18666667]\n",
            "Covariance matrix:\n",
            "[[ 0.71019501 -0.05001814  1.30319728  0.50244444]\n",
            " [-0.05001814  0.20719637 -0.3829034  -0.14170159]\n",
            " [ 1.30319728 -0.3829034   3.19901497  1.28779048]\n",
            " [ 0.50244444 -0.14170159  1.28779048  0.55791746]]\n",
            "Eigenvalues (vector): [4.30938932 0.2677887  0.07822324 0.01892255]\n",
            "Eigenvectors (matrix):\n",
            "[[-0.3612084  -0.67668874  0.5437191   0.34057361]\n",
            " [ 0.09667266 -0.71059308 -0.61616041 -0.32566581]\n",
            " [-0.86000139  0.16246182 -0.06924822 -0.47875719]\n",
            " [-0.34724702  0.10371103 -0.56561522  0.74077186]]\n"
          ]
        }
      ]
    },
    {
      "cell_type": "markdown",
      "metadata": {
        "id": "deDnDr8UR5vq"
      },
      "source": [
        "## 2.1.3 Project onto 1-dimensional subspace and reconstruct:\n",
        "Based on the results from the previous problem, derive the projection matrix.\n",
        "\n",
        "Then, project the training set and the testing set onto the 1-dimensional subspace, and reconstruct them back to the original space,\n",
        "respectively.\n",
        "\n",
        "Calculate the variance (refer to Page 15 of Lecture 17) and the reconstruction\n",
        "loss (refer to Page 18 of Lecture 17).\n"
      ]
    },
    {
      "cell_type": "code",
      "metadata": {
        "id": "ib89-Fq8R8v-",
        "outputId": "bc937afc-ff28-4816-d8c1-4a2c2af59b3e",
        "colab": {
          "base_uri": "https://localhost:8080/"
        }
      },
      "source": [
        "# Select the principal eigenvector (first column)\n",
        "W_1D = eigenvectors[:, 0].reshape(-1, 1)  # Shape (4,1)\n",
        "\n",
        "# Projection matrix\n",
        "project_matrix_W = W_1D\n",
        "\n",
        "# Project the training data\n",
        "X_train_mapped_1D = X_train_centered @ W_1D\n",
        "\n",
        "# Reconstruct the training data\n",
        "X_train_reconstructed_1D = X_train_mapped_1D @ W_1D.T + mean_vector\n",
        "\n",
        "# Calculate variance for training set\n",
        "variance_train = np.var(X_train_mapped_1D, ddof=0)  # Biased estimator\n",
        "\n",
        "# Calculate reconstruction loss for training set\n",
        "reconstruction_loss_train = np.mean(np.sum((X_train - X_train_reconstructed_1D)**2, axis=1))\n",
        "\n",
        "# Project the test data\n",
        "X_test_centered = X_test - mean_vector\n",
        "X_test_mapped_1D = X_test_centered @ W_1D\n",
        "\n",
        "# Reconstruct the test data\n",
        "X_test_reconstructed_1D = X_test_mapped_1D @ W_1D.T + mean_vector\n",
        "\n",
        "# Calculate variance for test set\n",
        "variance_test = np.var(X_test_mapped_1D, ddof=0)  # Biased estimator\n",
        "\n",
        "# Calculate reconstruction loss for test set\n",
        "reconstruction_loss_test = np.mean(np.sum((X_test - X_test_reconstructed_1D)**2, axis=1))\n",
        "\n",
        "print(\"\\nQ2.1.3 Project onto 1-dimensional subspace and reconstruct:\")\n",
        "print(f\"Project matrix W: \\n{project_matrix_W}\")\n",
        "print(f\"shape of X_train_mapped: {X_train_mapped_1D.shape}, shape of X_train_reconstruct: {X_train_reconstructed_1D.shape}\")\n",
        "print(f\"variance_train: {variance_train}\")\n",
        "print(f\"reconstruction_loss_train: {reconstruction_loss_train}\")\n",
        "print(f\"shape of X_test_mapped: {X_test_mapped_1D.shape}, shape of X_train_reconstruct: {X_test_reconstructed_1D.shape}\")\n",
        "print(f\"variance_test: {variance_test}\")\n",
        "print(f\"reconstruction_loss_test: {reconstruction_loss_test}\")\n",
        "\n",
        "\n",
        "\n",
        "\n",
        "# This is the eigenvector corresponding to the first principal component. We have reduced the data to 1 dimension, so\n",
        "# the projection matrix 𝑊 contains the first eigenvector (the principal component) as a column vector.\n",
        "# This eigenvector defines the direction in which the data has the maximum variance.\n",
        "\n",
        "# Shapes of Mapped and Reconstructed Data\n",
        "# Shape of X train mapped: (105,1)\n",
        "# This means we have 105 data points (samples) and each data point is now represented in 1 dimension after projection.\n",
        "# We project the original data into the 1D subspace using the first eigenvector (as represented by the projection matrix (𝑊).\n",
        "\n",
        "# Shape of X train reconstruct: (105,4)\n",
        "# This means we have reconstructed the data back to its original 4-dimensional space (from 1D). Essentially, we have tried to reconstruct the data using only the information from the 1 principal component.\n",
        "# This means we are using the projection along the first eigenvector to approximate the original data (though we only have 1D information, so the reconstruction is an approximation).\n",
        "\n",
        "# Shape of X test mapped: (45,1)\n",
        "# 45 test samples projected onto the 1D subspace.\n",
        "# Shape of X test reconstruct: (45,4)\n",
        "# The test set is reconstructed back into 4 dimensions using the same 1D projection.\n",
        "\n",
        "# Variance and Reconstruction Loss\n",
        "# Variance train:\n",
        "# Variance captured by the first principal component in the training data.\n",
        "# Since we are projecting the data onto just 1 dimension, the variance explained by this 1D subspace is equal to the first eigenvalue (which is the largest eigenvalue).\n",
        "# This tells that this single dimension captures the largest portion of the variance in the dataset.\n",
        "\n",
        "# Variance test:\n",
        "# Variance captured by the first principal component in the test data.\n",
        "# Since we are using the same eigenvector for projection, the variance explained by the 1D subspace in the test set is slightly lower than in the training set.\n",
        "# This is expected since the test set may not exactly follow the same distribution as the training set.\n",
        "\n",
        "# Reconstruction loss train:\n",
        "# This value measures how well the original training data can be reconstructed from the 1-dimensional projection.\n",
        "# A lower value means the reconstruction is better, and a higher value means there is more loss due to the dimensionality reduction.\n",
        "\n",
        "# Since we are projecting to only 1 dimension, there is a significant loss of information, which is reflected in this reconstruction error.\n",
        "# The loss is not zero because the 1D projection only captures the most important variance but discards much of the detailed information.\n",
        "\n",
        "# Reconstruction loss test:\n",
        "# Similar to the training set, this is the reconstruction loss for the test set.\n",
        "# This value is slightly lower than the training reconstruction loss, which could indicate that the test data is somewhat closer to the first principal component (hence less reconstruction error).\n",
        "\n",
        "# By projecting onto just 1 dimension, you've reduced the complexity of the data but lost a lot of information.\n",
        "# The reconstruction loss shows how much of the data’s structure is lost when using only 1 principal component.\n",
        "# The variance values give you insight into how much of the total variance in the dataset is explained by that one component.\n",
        "\n",
        "# Since the first eigenvalue (4.309) explains the majority of the variance, it suggests that the data is highly linearly dependent on the first principal component.\n",
        "# This is typical in many real-world datasets where most of the variance is captured by a few directions.\n",
        "# The reconstruction loss values suggest that the 1D approximation is not perfect,\n",
        "# but it is still somewhat effective in capturing the overall structure of the data, especially since PCA typically works best when the data has a dominant principal component.\n"
      ],
      "execution_count": 27,
      "outputs": [
        {
          "output_type": "stream",
          "name": "stdout",
          "text": [
            "\n",
            "Q2.1.3 Project onto 1-dimensional subspace and reconstruct:\n",
            "Project matrix W: \n",
            "[[-0.3612084 ]\n",
            " [ 0.09667266]\n",
            " [-0.86000139]\n",
            " [-0.34724702]]\n",
            "shape of X_train_mapped: (105, 1), shape of X_train_reconstruct: (105, 4)\n",
            "variance_train: 4.309389319247092\n",
            "reconstruction_loss_train: 0.3649344902767157\n",
            "shape of X_test_mapped: (45, 1), shape of X_train_reconstruct: (45, 4)\n",
            "variance_test: 3.907084095695328\n",
            "reconstruction_loss_test: 0.2997891222678474\n"
          ]
        }
      ]
    },
    {
      "cell_type": "markdown",
      "source": [
        "## 2.1.4 Project onto 2-dimensional subspace and reconstruct:\n",
        "Similar to the previous problem, but project the data onto a 2-dimensional subspace."
      ],
      "metadata": {
        "id": "ncVVKOJWijIA"
      }
    },
    {
      "cell_type": "code",
      "source": [
        "# Select the top two principal eigenvectors\n",
        "W_2D = eigenvectors[:, :2]  # Shape (4,2)\n",
        "\n",
        "# Projection matrix\n",
        "project_matrix_W_2D = W_2D\n",
        "\n",
        "# Project the training data\n",
        "X_train_mapped_2D = X_train_centered @ W_2D  # Shape (105,2)\n",
        "\n",
        "# Reconstruct the training data\n",
        "X_train_reconstructed_2D = X_train_mapped_2D @ W_2D.T + mean_vector  # Shape (105,4)\n",
        "\n",
        "# Calculate variance for training set\n",
        "variance_train_2D = np.sum(np.var(X_train_mapped_2D, axis=0, ddof=0))\n",
        "\n",
        "# Calculate reconstruction loss for training set\n",
        "reconstruction_loss_train_2D = np.mean(np.sum((X_train - X_train_reconstructed_2D)**2, axis=1))\n",
        "\n",
        "# Project the test data\n",
        "X_test_mapped_2D = X_test_centered @ W_2D  # Shape (45,2)\n",
        "\n",
        "# Reconstruct the test data\n",
        "X_test_reconstructed_2D = X_test_mapped_2D @ W_2D.T + mean_vector  # Shape (45,4)\n",
        "\n",
        "# Calculate variance for test set\n",
        "variance_test_2D = np.sum(np.var(X_test_mapped_2D, axis=0, ddof=0))\n",
        "\n",
        "# Calculate reconstruction loss for test set\n",
        "reconstruction_loss_test_2D = np.mean(np.sum((X_test - X_test_reconstructed_2D)**2, axis=1))\n",
        "\n",
        "print(\"\\nQ2.1.4 Project onto 2-dimensional subspace and reconstruct:\")\n",
        "print(f\"Project matrix W: \\n{project_matrix_W_2D}\")\n",
        "print(f\"shape of X_train_mapped: {X_train_mapped_2D.shape}, shape of X_train_reconstruct: {X_train_reconstructed_2D.shape}\")\n",
        "print(f\"variance_train: {variance_train_2D}\")\n",
        "print(f\"reconstruction_loss_train: {reconstruction_loss_train_2D}\")\n",
        "print(f\"shape of X_test_mapped: {X_test_mapped_2D.shape}, shape of X_test_reconstruct: {X_test_reconstructed_2D.shape}\")\n",
        "print(f\"variance_test: {variance_test_2D}\")\n",
        "print(f\"reconstruction_loss_test: {reconstruction_loss_test_2D}\")"
      ],
      "metadata": {
        "colab": {
          "base_uri": "https://localhost:8080/"
        },
        "id": "jqevzWYZiv-k",
        "outputId": "3228623d-f343-46cd-ddb3-d27df7abae73"
      },
      "execution_count": 28,
      "outputs": [
        {
          "output_type": "stream",
          "name": "stdout",
          "text": [
            "\n",
            "Q2.1.4 Project onto 2-dimensional subspace and reconstruct:\n",
            "Project matrix W: \n",
            "[[-0.3612084  -0.67668874]\n",
            " [ 0.09667266 -0.71059308]\n",
            " [-0.86000139  0.16246182]\n",
            " [-0.34724702  0.10371103]]\n",
            "shape of X_train_mapped: (105, 2), shape of X_train_reconstruct: (105, 4)\n",
            "variance_train: 4.577178016423883\n",
            "reconstruction_loss_train: 0.09714579309992515\n",
            "shape of X_test_mapped: (45, 2), shape of X_test_reconstruct: (45, 4)\n",
            "variance_test: 4.078378031615011\n",
            "reconstruction_loss_test: 0.11952572036446965\n"
          ]
        }
      ]
    },
    {
      "cell_type": "markdown",
      "source": [
        "## 2.1.5 Project onto 3-dimensional subspace and reconstruct:\n",
        "Similar to the previous problem, but project the data onto a 3-dimensional subspace."
      ],
      "metadata": {
        "id": "DnTG86wu1nMf"
      }
    },
    {
      "cell_type": "code",
      "source": [
        "# Select the top three principal eigenvectors\n",
        "W_3D = eigenvectors[:, :3]  # Shape (4,3)\n",
        "\n",
        "# Projection matrix\n",
        "project_matrix_W_3D = W_3D\n",
        "\n",
        "# Project the training data\n",
        "X_train_mapped_3D = X_train_centered @ W_3D  # Shape (105,3)\n",
        "\n",
        "# Reconstruct the training data\n",
        "X_train_reconstructed_3D = X_train_mapped_3D @ W_3D.T + mean_vector  # Shape (105,4)\n",
        "\n",
        "# Calculate variance for training set\n",
        "variance_train_3D = np.sum(np.var(X_train_mapped_3D, axis=0, ddof=0))\n",
        "\n",
        "# Calculate reconstruction loss for training set\n",
        "reconstruction_loss_train_3D = np.mean(np.sum((X_train - X_train_reconstructed_3D)**2, axis=1))\n",
        "\n",
        "# Project the test data\n",
        "X_test_mapped_3D = X_test_centered @ W_3D  # Shape (45,3)\n",
        "\n",
        "# Reconstruct the test data\n",
        "X_test_reconstructed_3D = X_test_mapped_3D @ W_3D.T + mean_vector  # Shape (45,4)\n",
        "\n",
        "# Calculate variance for test set\n",
        "variance_test_3D = np.sum(np.var(X_test_mapped_3D, axis=0, ddof=0))\n",
        "\n",
        "# Calculate reconstruction loss for test set\n",
        "reconstruction_loss_test_3D = np.mean(np.sum((X_test - X_test_reconstructed_3D)**2, axis=1))\n",
        "\n",
        "print(\"\\nQ2.1.5 Project onto 3-dimensional subspace and reconstruct:\")\n",
        "print(f\"Project matrix W: \\n{project_matrix_W_3D}\")\n",
        "print(f\"shape of X_train_mapped: {X_train_mapped_3D.shape}, shape of X_train_reconstruct: {X_train_reconstructed_3D.shape}\")\n",
        "print(f\"variance train: {variance_train_3D}\")\n",
        "print(f\"reconstruction_loss_train: {reconstruction_loss_train_3D}\")\n",
        "print(f\"shape of X_test_mapped: {X_test_mapped_3D.shape}, shape of X_test_reconstruct: {X_test_reconstructed_3D.shape}\")\n",
        "print(f\"variance_test: {variance_test_3D}\")\n",
        "print(f\"reconstruction_loss_test: {reconstruction_loss_test_3D}\")"
      ],
      "metadata": {
        "colab": {
          "base_uri": "https://localhost:8080/"
        },
        "id": "Pe7y488012-S",
        "outputId": "f06dd5b6-767a-4412-eb82-5184ac5a7c8b"
      },
      "execution_count": 29,
      "outputs": [
        {
          "output_type": "stream",
          "name": "stdout",
          "text": [
            "\n",
            "Q2.1.5 Project onto 3-dimensional subspace and reconstruct:\n",
            "Project matrix W: \n",
            "[[-0.3612084  -0.67668874  0.5437191 ]\n",
            " [ 0.09667266 -0.71059308 -0.61616041]\n",
            " [-0.86000139  0.16246182 -0.06924822]\n",
            " [-0.34724702  0.10371103 -0.56561522]]\n",
            "shape of X_train_mapped: (105, 3), shape of X_train_reconstruct: (105, 4)\n",
            "variance train: 4.6554012605502875\n",
            "reconstruction_loss_train: 0.018922548973519974\n",
            "shape of X_test_mapped: (45, 3), shape of X_test_reconstruct: (45, 4)\n",
            "variance_test: 4.15414732573894\n",
            "reconstruction_loss_test: 0.03587183464503317\n"
          ]
        }
      ]
    },
    {
      "cell_type": "markdown",
      "source": [
        "## 2.1.6 Plotting:\n",
        "Plot the curves of variances and reconstruction losses as a function of the projection dimension.\n"
      ],
      "metadata": {
        "id": "lzU1fKkd1426"
      }
    },
    {
      "cell_type": "code",
      "source": [
        "print(\"Q2.1.6 Plotting:\")\n",
        "print(\"\\nDimension - Variance:\")\n",
        "\n",
        "# Dimensions to consider\n",
        "dimensions = [1, 2, 3]\n",
        "\n",
        "# Variances\n",
        "variances_train = [variance_train, variance_train_2D, variance_train_3D]\n",
        "variances_test = [variance_test, variance_test_2D, variance_test_3D]\n",
        "\n",
        "# Reconstruction losses\n",
        "reconstruction_losses_train = [reconstruction_loss_train, reconstruction_loss_train_2D, reconstruction_loss_train_3D]\n",
        "reconstruction_losses_test = [reconstruction_loss_test, reconstruction_loss_test_2D, reconstruction_loss_test_3D]\n",
        "\n",
        "# Plotting Variance\n",
        "plt.figure(figsize=(10, 5))\n",
        "plt.plot(dimensions, variances_train, marker='o', label='Training Set')\n",
        "plt.plot(dimensions, variances_test, marker='s', label='Test Set')\n",
        "plt.title('Dimension - Variance')\n",
        "plt.xlabel('Projection Dimension')\n",
        "plt.ylabel('Variance')\n",
        "plt.xticks(dimensions)\n",
        "plt.legend()\n",
        "plt.grid(True)\n",
        "plt.show()\n",
        "\n",
        "# Description of relationship\n",
        "\n",
        "print(\"{figure}\")\n",
        "print(\"The variance increases as the projection dimension increases. This is expected since higher dimensions capture more variance from the data.\")\n",
        "print(\"\\nDimension - Reconstruction loss:\")\n",
        "# Plotting Reconstruction Loss\n",
        "plt.figure(figsize=(10, 5))\n",
        "plt.plot(dimensions, reconstruction_losses_train, marker='o', label='Training Set')\n",
        "plt.plot(dimensions, reconstruction_losses_test, marker='s', label='Test Set')\n",
        "plt.title('Dimension - Reconstruction Loss')\n",
        "plt.xlabel('Projection Dimension')\n",
        "plt.ylabel('Reconstruction Loss')\n",
        "plt.xticks(dimensions)\n",
        "plt.legend()\n",
        "plt.grid(True)\n",
        "plt.show()\n",
        "\n",
        "# Description of relationship\n",
        "\n",
        "print(\"{figure}\")\n",
        "print(\"The reconstruction loss decreases as the projection dimension increases. Higher dimensions allow for a more accurate reconstruction of the original data.\")"
      ],
      "metadata": {
        "colab": {
          "base_uri": "https://localhost:8080/",
          "height": 1000
        },
        "id": "e8Gq1Y2X2D_q",
        "outputId": "1f2abb2e-3f99-435c-a6bd-e9a32be398b8"
      },
      "execution_count": 30,
      "outputs": [
        {
          "output_type": "stream",
          "name": "stdout",
          "text": [
            "Q2.1.6 Plotting:\n",
            "\n",
            "Dimension - Variance:\n"
          ]
        },
        {
          "output_type": "display_data",
          "data": {
            "text/plain": [
              "<Figure size 1000x500 with 1 Axes>"
            ],
            "image/png": "[encoded data removed]"
          },
          "metadata": {}
        },
        {
          "output_type": "stream",
          "name": "stdout",
          "text": [
            "{figure}\n",
            "The variance increases as the projection dimension increases. This is expected since higher dimensions capture more variance from the data.\n",
            "\n",
            "Dimension - Reconstruction loss:\n"
          ]
        },
        {
          "output_type": "display_data",
          "data": {
            "text/plain": [
              "<Figure size 1000x500 with 1 Axes>"
            ],
            "image/png": "[encoded data removed]"
          },
          "metadata": {}
        },
        {
          "output_type": "stream",
          "name": "stdout",
          "text": [
            "{figure}\n",
            "The reconstruction loss decreases as the projection dimension increases. Higher dimensions allow for a more accurate reconstruction of the original data.\n"
          ]
        }
      ]
    }
  ]
}